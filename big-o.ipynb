{
 "cells": [
  {
   "cell_type": "markdown",
   "id": "4ac5f3f5-c997-41cb-bd42-28275438012a",
   "metadata": {},
   "source": [
    "## Big O\n",
    "\n",
    "Big O, in the way industry tends to use it, is the tightest description of the bound of runtime."
   ]
  },
  {
   "cell_type": "markdown",
   "id": "3dd991c0-6589-4237-a86f-d9a080df717e",
   "metadata": {},
   "source": [
    "#### Time Complexity\n",
    "\n",
    "Think of the analogy of transferring a hard drive to a friend:\n",
    "- Electronic Transfer: O(s), where s is thee size of the file. Time to transfer increases linearly with time.\n",
    "- Airplane Transfer: O(1) with respect to size of file. The size of the file is irrelevant to the transfer time.\n",
    "\n",
    "Linear will always at some point surpass constant! Common runtimes O(log n), O(n log n), O(n), O($n^{2}$), O($2^{n}$)\n",
    "\n",
    "#### Academia Big O\n",
    "Academics describe runtimes in a few ways:\n",
    "- **O (big O)**: Describes the upper bound on the time. An algorithm that prints an array could be described as O(n) but also as O($n^2$), O($n^3$), etc. Similar to less-than-or-equal-to relationship.\n",
    "- **Ω (big omega)**: Equivalent concept but for lower bound. Ω(n) could also be Ω(log n) or Ω(1).\n",
    "- **Θ (big theta)**: In academia, Θ means both O and Ω. An algorithm that is Θ(N) is both O(n) and Ω(n)\n",
    "    - This is closer to industry's definition\n",
    "\n",
    "#### Best/Worst/Expected Case\n",
    "From the perspective of quick sort:\n",
    "- **Best Case**: If all elements are equal, traverses through array once. *O(n)*\n",
    "- **Worst Case**: The pivot is repeatedly the biggest element (pivot is randomly chosen as first element and every element is larger). *O($n^2$)*\n",
    "- **Expected Case**: *O(n log n)*\n",
    "\n",
    "We rarely discuss best case, after all, many special cases for algorithms can be O(1) best case.\n",
    "\n",
    "**For many - probably most - algorithms, the worst case and the expected case are the same.** Sometimes they are different though, and we need to describe both runtimes.\n",
    "\n",
    "\n",
    "### Space Complexity\n",
    "The amount of memory - or space - an algorithm requires is important too. If we create an array of size n, we require O(n) space, a 2 dimensional array of size n by n will require O($n^2$) space. **Stack spce in recursive calls counts too*. For example, the code below would take O(n) time and O(n) space.\n"
   ]
  },
  {
   "cell_type": "code",
   "execution_count": 10,
   "id": "6bd9e154-6951-4086-8ee4-8eb927fb42e8",
   "metadata": {},
   "outputs": [
    {
     "name": "stdout",
     "output_type": "stream",
     "text": [
      "sum_int(5)\n",
      "sum_int(4)\n",
      "sum_int(3)\n",
      "sum_int(2)\n",
      "sum_int(1)\n",
      "sum_int(0)\n"
     ]
    }
   ],
   "source": [
    "def sum_int(n):\n",
    "    print(f\"sum_int({n})\")\n",
    "    if n <= 0:\n",
    "        return 0\n",
    "    return n + sum_int(n-1)\n",
    "\n",
    "sum_int(5);"
   ]
  },
  {
   "cell_type": "markdown",
   "id": "92fbe9a1-2a22-4e8f-b66b-f97acef1e7bb",
   "metadata": {},
   "source": [
    "However, n calls doesn't necessarily mean O(n) space. Consider below, where there are O(n) calls to pairSum. However, those calls do not exist simultaneously on the stack, so you only need O(1) space."
   ]
  },
  {
   "cell_type": "code",
   "execution_count": 15,
   "id": "c8009a8f-cce2-4b75-9290-04692fb056d3",
   "metadata": {},
   "outputs": [
    {
     "data": {
      "text/plain": [
       "25"
      ]
     },
     "execution_count": 15,
     "metadata": {},
     "output_type": "execute_result"
    }
   ],
   "source": [
    "def pairSum(a, b):\n",
    "    return a + b\n",
    "\n",
    "def pairSumSequence(n):\n",
    "    sum = 0\n",
    "    for i in range(n):\n",
    "        sum += pairSum(i, i+1)\n",
    "    return sum\n",
    "\n",
    "pairSumSequence(5)"
   ]
  },
  {
   "cell_type": "markdown",
   "id": "567c366e-ef1e-4a6c-a0fb-cfc4c96dd732",
   "metadata": {},
   "source": [
    "#### Drop the COnstants\n",
    "\n",
    "Big O describes the rate of increase, therefore we can drop the constants in runtime, i.e. there is no O(2n) just O(n). FOr example, a code with two non-nested for loops is equivalent to a loop with a single for loop in Big O notation."
   ]
  },
  {
   "cell_type": "code",
   "execution_count": null,
   "id": "ba767f97-0155-4335-a9fc-a1c1743663ab",
   "metadata": {},
   "outputs": [],
   "source": []
  }
 ],
 "metadata": {
  "kernelspec": {
   "display_name": "Python 3 (ipykernel)",
   "language": "python",
   "name": "python3"
  },
  "language_info": {
   "codemirror_mode": {
    "name": "ipython",
    "version": 3
   },
   "file_extension": ".py",
   "mimetype": "text/x-python",
   "name": "python",
   "nbconvert_exporter": "python",
   "pygments_lexer": "ipython3",
   "version": "3.9.5"
  }
 },
 "nbformat": 4,
 "nbformat_minor": 5
}
