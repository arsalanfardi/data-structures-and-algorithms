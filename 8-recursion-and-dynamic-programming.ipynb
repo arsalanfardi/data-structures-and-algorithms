{
 "cells": [
  {
   "cell_type": "markdown",
   "metadata": {},
   "source": [
    "#### Recursion\n",
    "\n",
    "A good hint that a problem is recursive is that it can be built off of subproblems:\n",
    "- \"Design an algorithm to compute the nth...\"\n",
    "- \"Write code to list the first n...\"\n",
    "- \"Implement a method to compute all...\"\n",
    "\n",
    "Remember that each recursive call adds a new layer to the stack, and thus iterative solutions may be preferred due to their more efficient space complexity (however, iterative solutions can only be significantly more complex). Three of the most common approaches for recursion algorithms are bottom-up, top-down and half-and-half.\n",
    " - **Bottom-Up**: Start with knowing how to solve the problem for a **base case**, then build the solution for a specific case off of the previous cases -> f(0) -> f(1) -> f(2) -> f(3) -> f(4).\n",
    " - **Top-Down**: Divide the problem for case N into subproblems -> f(4) -> f(3) -> f(2) -> f(1) -> f(0).\n",
    " - **Half-and-Half**: Divide the data set in half (think merge sort or binary search).\n",
    "\n",
    "#### Dynamic Programming\n",
    "Dynamic programming involves taking a recursive algorithm and finding the overlapping subproblems, then **caching** those results for future recursive calls. This can also be done iteratively, where you still \"cache\" previous work.\n",
    "  - **Note**: top-down dynamic programming is sometimes referred to as \"memoization\", thus only using \"dynamic programming\" to refer to bottom-up work. In these notes, we refer to both as dynamic programming.\n",
    "\n",
    "##### Fibonacci Numbers Example\n",
    "\n",
    "##### Recursive:\n",
    "The recursive fibonacci implementation without any memoization has an **O($2^n$)** time complexity, as verified by the number of nodes in the recursion tree below (each node has O(1) runtime).\n",
    "\n",
    "<img src=\"assets/fibonacci.gif\" width=\"400\">"
   ]
  },
  {
   "cell_type": "code",
   "execution_count": 13,
   "metadata": {},
   "outputs": [
    {
     "name": "stdout",
     "output_type": "stream",
     "text": [
      "5\n"
     ]
    },
    {
     "data": {
      "text/plain": [
       "13.262158999999997"
      ]
     },
     "execution_count": 13,
     "metadata": {},
     "output_type": "execute_result"
    }
   ],
   "source": [
    "import timeit\n",
    "\n",
    "def fibonacci(i: int):\n",
    "  if i == 0 or i == 1:\n",
    "    return i\n",
    "  \n",
    "  return fibonacci(i - 1) + fibonacci(i - 2)\n",
    "\n",
    "print(fibonacci(5))  # pass a new dictionary\n",
    "\n",
    "timeit.timeit(\"fibonacci(10)\", \"from __main__ import fibonacci\")"
   ]
  },
  {
   "cell_type": "markdown",
   "metadata": {},
   "source": [
    "##### Top-Down Dynamic Programming (Memoization)\n",
    "Looking at the recursion tree, we can see that there are several identical nodes (e.g. fib(3) appears twice and fib(2) appears three times). We can cache these results and use them in future calculations. With this small modification, we can tweak this function to run on **O(n)** time by caching the results of fibonacci(i) *between calls*."
   ]
  },
  {
   "cell_type": "code",
   "execution_count": 19,
   "metadata": {},
   "outputs": [
    {
     "name": "stdout",
     "output_type": "stream",
     "text": [
      "5\n"
     ]
    },
    {
     "data": {
      "text/plain": [
       "2.296860299999935"
      ]
     },
     "execution_count": 19,
     "metadata": {},
     "output_type": "execute_result"
    }
   ],
   "source": [
    "import timeit\n",
    "\n",
    "def fibonacci(i: int, memo: dict):\n",
    "  if i == 0 or i == 1:\n",
    "    return i\n",
    "  \n",
    "  if i not in memo:\n",
    "    memo[i] = fibonacci(i - 1, memo) + fibonacci(i - 2, memo)\n",
    "  \n",
    "  return memo[i]\n",
    "\n",
    "print(fibonacci(5, {}))  # pass a new dictionary\n",
    "\n",
    "timeit.timeit(\"fibonacci(10, {})\", \"from __main__ import fibonacci\")"
   ]
  },
  {
   "cell_type": "markdown",
   "metadata": {},
   "source": [
    "##### Bottom-Up Dynamic Programming\n",
    "Think about doing the same things as the recursive memoized approach, but in reverse. We start with a base case of `fibonacci(0)` and `fibonacci(1)`. Then, we use those to calculate `fibonacci(2)`, `fibonacci(3)`, and so on. We don't even need a memo table in this case, and can instead store a few variables."
   ]
  },
  {
   "cell_type": "code",
   "execution_count": 20,
   "metadata": {},
   "outputs": [
    {
     "name": "stdout",
     "output_type": "stream",
     "text": [
      "5\n"
     ]
    },
    {
     "data": {
      "text/plain": [
       "0.4759620999998333"
      ]
     },
     "execution_count": 20,
     "metadata": {},
     "output_type": "execute_result"
    }
   ],
   "source": [
    "import timeit\n",
    "\n",
    "def fibonacci(i: int):\n",
    "  n0, n1 = 0, 1\n",
    "  \n",
    "  for _ in range(i - 1):\n",
    "    n0, n1 = n1, n0 + n1\n",
    "  \n",
    "  return n1\n",
    "\n",
    "print(fibonacci(5))  # pass a new dictionary\n",
    "\n",
    "timeit.timeit(\"fibonacci(10)\", \"from __main__ import fibonacci\")"
   ]
  },
  {
   "cell_type": "code",
   "execution_count": null,
   "metadata": {},
   "outputs": [],
   "source": []
  }
 ],
 "metadata": {
  "interpreter": {
   "hash": "297c3c4cf0ca7056ff00b85688658f2cdddba28ac874a998871452124f2c703a"
  },
  "kernelspec": {
   "display_name": "Python 3.9.5 ('base')",
   "language": "python",
   "name": "python3"
  },
  "language_info": {
   "codemirror_mode": {
    "name": "ipython",
    "version": 3
   },
   "file_extension": ".py",
   "mimetype": "text/x-python",
   "name": "python",
   "nbconvert_exporter": "python",
   "pygments_lexer": "ipython3",
   "version": "3.9.5"
  },
  "orig_nbformat": 4
 },
 "nbformat": 4,
 "nbformat_minor": 2
}
