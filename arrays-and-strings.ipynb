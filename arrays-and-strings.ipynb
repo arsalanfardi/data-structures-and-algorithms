{
 "cells": [
  {
   "cell_type": "markdown",
   "id": "aa710f68-f382-4920-9c20-6d14ead73c5c",
   "metadata": {},
   "source": [
    "#### Hash Tables\n",
    "\n",
    "A hash table is a data structure which maps keys to values for highly efficient lookup. In a good implementation, the lookup time is O(1), however it can have a worst case of O(N) in the case that there are many collisions.\n",
    "\n",
    "A simple implementation of a hash table can involve an array of linked lists and a hash code function, as follows:\n",
    "\n",
    "1. Compute the key's hash code (which will usually be an int or a long) using the hash function. Note, different keys could have the same hash code due to an infinite number of keys and a finite number of ints.\n",
    "2. Map the hashcode to the index of an array. This could be done with something like hash(key) % array_max_length. Different hash codes could map to the same index.\n",
    "3. At this index, there is a linked list of keys and values. We use a linked list to account for collisions.\n",
    "\n",
    "An implementation of a hash table is shown below."
   ]
  },
  {
   "cell_type": "code",
   "execution_count": null,
   "id": "81406399-6ee5-417f-8fc2-53651d37fee7",
   "metadata": {},
   "outputs": [],
   "source": []
  }
 ],
 "metadata": {
  "kernelspec": {
   "display_name": "Python 3 (ipykernel)",
   "language": "python",
   "name": "python3"
  },
  "language_info": {
   "codemirror_mode": {
    "name": "ipython",
    "version": 3
   },
   "file_extension": ".py",
   "mimetype": "text/x-python",
   "name": "python",
   "nbconvert_exporter": "python",
   "pygments_lexer": "ipython3",
   "version": "3.9.5"
  }
 },
 "nbformat": 4,
 "nbformat_minor": 5
}
