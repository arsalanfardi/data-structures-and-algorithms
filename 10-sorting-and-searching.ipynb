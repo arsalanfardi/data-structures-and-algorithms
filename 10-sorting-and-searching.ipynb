{
 "cells": [
  {
   "cell_type": "markdown",
   "metadata": {},
   "source": [
    "#### Sorting Algorithms\n",
    "\n",
    "##### Bubble Sort\n",
    "**O($n^2$) time** | **O(1) space**\n",
    "- Start at the beginning of the array and swap the first two elements if first is > second\n",
    "- Proceed to next pair, and so on, until your reach the end of the array\n",
    "- Now do the second element of the array, taking into consideration that the last element (n-1-i) has now been sorted\n",
    "- Repeat process until entire array has been swept"
   ]
  },
  {
   "cell_type": "code",
   "execution_count": 23,
   "metadata": {},
   "outputs": [
    {
     "name": "stdout",
     "output_type": "stream",
     "text": [
      "[1, 4, 5, 8, 9, 12, 22]\n"
     ]
    }
   ],
   "source": [
    "from typing import List\n",
    "\n",
    "def bubble_sort(arr: List[float]) -> List[float]:\n",
    "  for i in range(len(arr) - 1):  # range(len(arr)) works but will repeat one time more than needed\n",
    "    for j in range(len(arr) - 1 - i):\n",
    "      if arr[j] > arr[j + 1]:\n",
    "        arr[j], arr[j + 1] = arr[j + 1], arr[j]\n",
    "\n",
    "  return arr\n",
    "\n",
    "arr = [8, 1, 12, 9, 4, 22, 5]\n",
    "bubble_sort(arr)\n",
    "print(arr)"
   ]
  },
  {
   "cell_type": "markdown",
   "metadata": {},
   "source": [
    "##### Selection Sort\n",
    "**O($n^2$) time** | **O(1) space**\n",
    "- Find the smallest element using a linear scan and move it to the front (swapping it with the front element)\n",
    "- Find the second smallest element and so on by again doing a linear scan\n",
    "- Continue until all elements are in place"
   ]
  },
  {
   "cell_type": "code",
   "execution_count": 22,
   "metadata": {},
   "outputs": [
    {
     "name": "stdout",
     "output_type": "stream",
     "text": [
      "[1, 4, 5, 8, 9, 12, 22]\n"
     ]
    }
   ],
   "source": [
    "def selection_sort(arr: List[float]) -> List[float]:\n",
    "  for i in range(len(arr) - 1):\n",
    "    min = i\n",
    "    # Find\n",
    "    for j in range(i + 1, len(arr)):\n",
    "      min = j if arr[j] < arr[min] else min\n",
    "    \n",
    "    # Put min at the correct position\n",
    "    arr[i], arr[min] = arr[min], arr[i]\n",
    "\n",
    "arr = [8, 1, 12, 9, 4, 22, 5]\n",
    "selection_sort(arr)\n",
    "print(arr)"
   ]
  },
  {
   "cell_type": "markdown",
   "metadata": {},
   "source": [
    "##### Merge Sort\n",
    "**O(nlog n) time** | **O(n) space**\n",
    "- Divide the array in half"
   ]
  },
  {
   "cell_type": "markdown",
   "metadata": {},
   "source": []
  }
 ],
 "metadata": {
  "interpreter": {
   "hash": "e14b48f2b93db6bb9d795a86b84bd79ab27108f91c4ed6b689233953f0334829"
  },
  "kernelspec": {
   "display_name": "Python 3.9.5 ('base')",
   "language": "python",
   "name": "python3"
  },
  "language_info": {
   "codemirror_mode": {
    "name": "ipython",
    "version": 3
   },
   "file_extension": ".py",
   "mimetype": "text/x-python",
   "name": "python",
   "nbconvert_exporter": "python",
   "pygments_lexer": "ipython3",
   "version": "3.9.5"
  },
  "orig_nbformat": 4
 },
 "nbformat": 4,
 "nbformat_minor": 2
}
