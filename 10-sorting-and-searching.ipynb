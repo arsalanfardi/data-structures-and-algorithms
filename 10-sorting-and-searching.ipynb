{
 "cells": [
  {
   "cell_type": "markdown",
   "metadata": {},
   "source": [
    "#### Sorting Algorithms\n",
    "\n",
    "##### Bubble Sort\n",
    "**O($n^2$) time** | **O(1) space**\n",
    "- Start at the beginning of the array and swap the first two elements if first is > second\n",
    "- Proceed to next pair, and so on, until your reach the end of the array\n",
    "- Now do the second element of the array, taking into consideration that the last element (n-1-i) has now been sorted\n",
    "- Repeat process until entire array has been swept"
   ]
  },
  {
   "cell_type": "code",
   "execution_count": 1,
   "metadata": {},
   "outputs": [
    {
     "name": "stdout",
     "output_type": "stream",
     "text": [
      "[1, 4, 5, 8, 9, 12, 22]\n"
     ]
    }
   ],
   "source": [
    "from typing import List\n",
    "\n",
    "def bubble_sort(arr: List[float]) -> List[float]:\n",
    "  for i in range(len(arr) - 1):  # range(len(arr)) works but will repeat one time more than needed\n",
    "    for j in range(len(arr) - 1 - i):\n",
    "      if arr[j] > arr[j + 1]:\n",
    "        arr[j], arr[j + 1] = arr[j + 1], arr[j]\n",
    "\n",
    "  return arr\n",
    "\n",
    "arr = [8, 1, 12, 9, 4, 22, 5]\n",
    "bubble_sort(arr)\n",
    "print(arr)"
   ]
  },
  {
   "cell_type": "markdown",
   "metadata": {},
   "source": [
    "##### Selection Sort\n",
    "**O($n^2$) time** | **O(1) space**\n",
    "- Find the smallest element using a linear scan and move it to the front (swapping it with the front element)\n",
    "- Find the second smallest element and so on by again doing a linear scan\n",
    "- Continue until all elements are in place"
   ]
  },
  {
   "cell_type": "code",
   "execution_count": 2,
   "metadata": {},
   "outputs": [
    {
     "name": "stdout",
     "output_type": "stream",
     "text": [
      "[1, 4, 5, 8, 9, 12, 22]\n"
     ]
    }
   ],
   "source": [
    "def selection_sort(arr: List[float]) -> List[float]:\n",
    "  for i in range(len(arr) - 1):\n",
    "    min = i\n",
    "    # Find\n",
    "    for j in range(i + 1, len(arr)):\n",
    "      min = j if arr[j] < arr[min] else min\n",
    "    \n",
    "    # Put min at the correct position\n",
    "    arr[i], arr[min] = arr[min], arr[i]\n",
    "  \n",
    "  return arr\n",
    "\n",
    "arr = [8, 1, 12, 9, 4, 22, 5]\n",
    "selection_sort(arr)\n",
    "print(arr)"
   ]
  },
  {
   "cell_type": "markdown",
   "metadata": {},
   "source": [
    "##### Merge Sort\n",
    "**O(nlog n) time** | **O(n) space**\n",
    "- Divide and conquer algorithm\n",
    "- Two functions involved:\n",
    "  - **merge_sort** to divide the array until the size becomes one\n",
    "  - **merge** for merging two halves\n",
    "- Divide the array in half while l < r, eventually you are merging just two single element arrays\n",
    "- Loop through the left and right arrays and compare values, adding the lower one to the original array\n",
    "- Merge any remaining elements in the left and right arrays"
   ]
  },
  {
   "cell_type": "code",
   "execution_count": 25,
   "metadata": {},
   "outputs": [
    {
     "name": "stdout",
     "output_type": "stream",
     "text": [
      "[1, 4, 5, 8, 9, 12, 22]\n"
     ]
    }
   ],
   "source": [
    "def merge_sort(arr: List[float]) -> List[float]:\n",
    "  if len(arr) > 1:\n",
    "    mid = len(arr) // 2\n",
    "    L = arr[:mid]\n",
    "    R = arr[mid:]\n",
    "\n",
    "    merge_sort(L)\n",
    "    merge_sort(R)\n",
    "  \n",
    "    merge(arr, L, R)\n",
    "  \n",
    "  return arr\n",
    "\n",
    "def merge(arr: List[float], L: List[float], R: List[float]):\n",
    "  i = j = k = 0  # left, right and current\n",
    "\n",
    "  # Compare each element of left and right lists and merge\n",
    "  while i < len(L) and j < len(R):\n",
    "    if L[i] <= R[j]:\n",
    "      arr[k] = L[i]\n",
    "      i += 1\n",
    "    else:\n",
    "      arr[k] = R[j]\n",
    "      j += 1\n",
    "    \n",
    "    k += 1  # always increment current\n",
    "  \n",
    "  # Copy any remaining elements over\n",
    "  while i < len(L):\n",
    "    arr[k] = L[i]\n",
    "    i += 1\n",
    "  \n",
    "  while j < len(R):\n",
    "    arr[k] = R[j]\n",
    "    j += 1\n",
    "\n",
    "arr = [8, 1, 12, 9, 4, 22, 5]\n",
    "merge_sort(arr)\n",
    "print(arr)\n",
    "  "
   ]
  },
  {
   "cell_type": "markdown",
   "metadata": {},
   "source": [
    "##### Quick Sort\n",
    "**O(nlog n) average time**  | **O($n^2$) worst-case time** | **O(n) space**\n",
    "- Divide and conquer algorithm\n",
    "- Pick a random pivot element (could be last or middle, etc. as well) and partition the array such that all all numbers which are less than the partition come before all elements that are greater than it\n",
    "- Repeatedly partition the array around an element to eventually sort it.\n",
    "- Worst case O($n^2$) because the partitioned element is not guaranteed to be the median."
   ]
  },
  {
   "cell_type": "code",
   "execution_count": 52,
   "metadata": {},
   "outputs": [
    {
     "name": "stdout",
     "output_type": "stream",
     "text": [
      "[1, 4, 5, 8, 9, 12, 22]\n"
     ]
    }
   ],
   "source": [
    "def quick_sort(arr, l, r):\n",
    "  if l < r:\n",
    "    p = partition(arr, l, r)\n",
    "    quick_sort(arr, l, p - 1)\n",
    "    quick_sort(arr, p, r)\n",
    "\n",
    "def partition(arr, l, r):\n",
    "  pivot = arr[(r - l) // 2 + l]  # Pick middle element between l and r for pivot\n",
    "  while l <= r:\n",
    "    while arr[l] < pivot: l += 1  # Look for an element larger than pivot on the left\n",
    "    while arr[r] > pivot: r -= 1  # Look for an element smaller than pivot on the right\n",
    "    \n",
    "    # Swap the elements\n",
    "    if l <= r:\n",
    "      arr[l], arr[r] = arr[r], arr[l]\n",
    "      l += 1\n",
    "      r -= 1\n",
    "\n",
    "  # Return the index of the pivot element after partitioning\n",
    "  return l\n",
    "\n",
    "arr = [8, 1, 12, 9, 4, 22, 5]\n",
    "quick_sort(arr, 0, len(arr) - 1)\n",
    "print(arr)\n",
    "  "
   ]
  },
  {
   "cell_type": "code",
   "execution_count": null,
   "metadata": {},
   "outputs": [],
   "source": []
  }
 ],
 "metadata": {
  "interpreter": {
   "hash": "297c3c4cf0ca7056ff00b85688658f2cdddba28ac874a998871452124f2c703a"
  },
  "kernelspec": {
   "display_name": "Python 3.9.5 ('base')",
   "language": "python",
   "name": "python3"
  },
  "language_info": {
   "codemirror_mode": {
    "name": "ipython",
    "version": 3
   },
   "file_extension": ".py",
   "mimetype": "text/x-python",
   "name": "python",
   "nbconvert_exporter": "python",
   "pygments_lexer": "ipython3",
   "version": "3.7.3"
  },
  "orig_nbformat": 4
 },
 "nbformat": 4,
 "nbformat_minor": 2
}
