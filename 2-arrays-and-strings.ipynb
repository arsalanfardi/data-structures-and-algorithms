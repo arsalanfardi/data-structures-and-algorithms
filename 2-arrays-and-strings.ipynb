{
 "cells": [
  {
   "cell_type": "markdown",
   "metadata": {},
   "source": [
    "#### Hash Tables\n",
    "\n",
    "A hash table is a data structure which maps keys to values for highly efficient lookup. In a good implementation, the lookup time is O(1), however it can have a worst case of O(N) in the case that there are many collisions.\n",
    "\n",
    "A simple implementation of a hash table can involve an array of linked lists and a hash code function, as follows:\n",
    "\n",
    "1. Compute the key's hash code (which will usually be an int or a long) using the **hash function**. Note, different keys could have the same hash code due to an infinite number of keys and a finite number of ints.\n",
    "2. Map the hashcode to the index of an array. This could be done with something like hash(key) % array_max_length. Different hash codes could map to the same index.\n",
    "3. At this index, there is a linked list of keys and values. We use a linked list to account for collisions.\n",
    "\n",
    "<img src=\"assets/hash-table.png\" width=\"400\">\n",
    "\n",
    "An implementation of a hash table is shown below."
   ]
  },
  {
   "cell_type": "code",
   "execution_count": 77,
   "metadata": {},
   "outputs": [],
   "source": [
    "class HashTable:\n",
    "    def __init__(self):\n",
    "        self.ARRAY_LENGTH = 10\n",
    "        self.array = [None] * self.ARRAY_LENGTH\n",
    "\n",
    "    def add(self, key: str, val: float):\n",
    "        idx = self.__hash_function(key)\n",
    "        if self.array[idx] == None:\n",
    "            self.array[idx] = LinkedList()\n",
    "        self.array[idx].insert(key, val) \n",
    "    \n",
    "    def get(self, key: str):\n",
    "        idx = self.__hash_function(key)\n",
    "        val = self.array[idx].find(key)\n",
    "        \n",
    "        if val is None:\n",
    "            raise KeyError(\"Key was not found!\")\n",
    "        else:\n",
    "            return val\n",
    "    \n",
    "    def __hash_function(self, string: str) -> int: \n",
    "        hash_val = 0\n",
    "        for i, ch in enumerate(string):\n",
    "            hash_val += (i + len(string)) ** ord(ch)\n",
    "        # Perform modulus to stay in range of max length\n",
    "        return hash_val % self.ARRAY_LENGTH\n",
    "    \n",
    "    def __str__(self):\n",
    "        s = \"\"\n",
    "        for i in range(len(self.array)):\n",
    "            s += f\"{i}: {self.array[i]}\\n\"\n",
    "        return s\n",
    "\n",
    "class LinkedList:\n",
    "    def __init__(self):\n",
    "        self.head = None\n",
    "        self.curr = None\n",
    "    \n",
    "    def insert(self, key: str, val: float):\n",
    "        if self.head is None:\n",
    "            self.head = self.Node(key, val)\n",
    "            self.curr = self.head\n",
    "        else:\n",
    "            self.curr.next = self.Node(key, val)\n",
    "            self.curr = self.curr.next\n",
    "    \n",
    "    def find(self, key: str):\n",
    "        if self.head is None:\n",
    "            return self.head\n",
    "        \n",
    "        curr = self.head\n",
    "        while True:\n",
    "            if curr.key == key:\n",
    "                return curr.val\n",
    "            if curr.next is None:\n",
    "                return curr.next\n",
    "            curr = curr.next\n",
    "    \n",
    "    def __str__(self):\n",
    "        s = \"\"\n",
    "        if self.head is None:\n",
    "            return s\n",
    "        \n",
    "        curr = self.head\n",
    "        while True:\n",
    "            s += f\"({curr.key}, {curr.val})\"\n",
    "            \n",
    "            if curr.next is None:\n",
    "                return s\n",
    "            \n",
    "            s += \", \"\n",
    "            curr = curr.next\n",
    "    \n",
    "    class Node: \n",
    "        def __init__(self, key: str, val: float):\n",
    "            self.key = key\n",
    "            self.val = val\n",
    "            self.next: Node = None"
   ]
  },
  {
   "cell_type": "code",
   "execution_count": 84,
   "metadata": {},
   "outputs": [
    {
     "name": "stdout",
     "output_type": "stream",
     "text": [
      "0: (ability, 9), (absolute, 20), (accommodate, 48), (accounts, 61), (achievement, 73), (acquisition, 85), (acrylic, 91)\n",
      "1: (a, 0), (ab, 4), (abandoned, 5), (aboriginal, 11), (accent, 32), (accept, 33), (access, 39), (accessible, 42), (accessory, 45), (accidents, 47), (accommodation, 49), (accomplish, 53), (accounting, 60), (accurately, 66)\n",
      "2: (aaa, 2), (able, 10), (absence, 18), (academic, 28), (acc, 31), (accepts, 38), (accessed, 40), (accompanied, 51), (accordingly, 57), (accused, 67), (ace, 69), (acm, 80), (acne, 81), (acre, 87), (act, 92), (actions, 95)\n",
      "3: (aaron, 3), (about, 13), (absorption, 22), (abstracts, 24), (acceptable, 34), (accepting, 37), (accessibility, 41), (accordance, 55), (accredited, 63), (acdbentity, 68), (acids, 77), (across, 90)\n",
      "4: (abc, 6), (abs, 17), (abu, 25), (academy, 30), (accepted, 36), (accomplished, 54), (account, 58), (accuracy, 64), (acer, 70), (acknowledge, 78), (acrobat, 89)\n",
      "5: (aa, 1), (absolutely, 21), (achieving, 75), (acting, 93), (action, 94), (active, 98)\n",
      "6: (abstract, 23), (accompanying, 52), (accurate, 65), (achievements, 74), (acid, 76), (acknowledged, 79), (acoustic, 82), (acquire, 83), (actively, 99)\n",
      "7: (above, 14), (absent, 19), (academics, 29), (accessing, 43), (accommodations, 50), (according, 56), (acres, 88), (activated, 96), (activation, 97)\n",
      "8: (aberdeen, 7), (abortion, 12), (abraham, 15), (accessories, 44), (accident, 46), (achieve, 71), (achieved, 72), (acquired, 84), (acquisitions, 86)\n",
      "9: (abilities, 8), (abroad, 16), (abuse, 26), (ac, 27), (acceptance, 35), (accountability, 59), (accreditation, 62)\n",
      "\n",
      "59\n"
     ]
    }
   ],
   "source": [
    "import requests\n",
    "import random\n",
    "\n",
    "hash_table = HashTable()\n",
    "\n",
    "content = requests.get(\"https://www.mit.edu/~ecprice/wordlist.10000\").content\n",
    "words = content.splitlines()\n",
    "\n",
    "for i, word in enumerate(words[:100]):\n",
    "    # Convert from byte to string and store in hash table\n",
    "    hash_table.add(word.decode(\"utf-8\"), i)\n",
    "\n",
    "print(hash_table)\n",
    "print(hash_table.get(\"accountability\"))"
   ]
  },
  {
   "cell_type": "code",
   "execution_count": 14,
   "metadata": {},
   "outputs": [],
   "source": [
    "class Test:\n",
    "    def __init__(self):\n",
    "        self.x = 10"
   ]
  },
  {
   "cell_type": "code",
   "execution_count": 16,
   "metadata": {},
   "outputs": [
    {
     "data": {
      "text/plain": [
       "12"
      ]
     },
     "execution_count": 16,
     "metadata": {},
     "output_type": "execute_result"
    }
   ],
   "source": [
    "test = Test()\n",
    "test.x = 12\n",
    "test.x"
   ]
  },
  {
   "cell_type": "code",
   "execution_count": null,
   "metadata": {},
   "outputs": [],
   "source": []
  }
 ],
 "metadata": {
  "kernelspec": {
   "display_name": "Python 3",
   "language": "python",
   "name": "python3"
  },
  "language_info": {
   "codemirror_mode": {
    "name": "ipython",
    "version": 3
   },
   "file_extension": ".py",
   "mimetype": "text/x-python",
   "name": "python",
   "nbconvert_exporter": "python",
   "pygments_lexer": "ipython3",
   "version": "3.7.3"
  }
 },
 "nbformat": 4,
 "nbformat_minor": 5
}
