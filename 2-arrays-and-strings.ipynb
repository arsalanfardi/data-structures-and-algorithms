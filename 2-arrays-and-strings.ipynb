{
 "cells": [
  {
   "cell_type": "markdown",
   "id": "a8271817",
   "metadata": {},
   "source": [
    "#### Hash Tables\n",
    "\n",
    "A hash table is a data structure which maps keys to values for highly efficient lookup. In a good implementation, the lookup time is **O(1)**, however it can have a worst case of **O(N)** in the case that there are many collisions.\n",
    "\n",
    "A simple implementation of a hash table can involve an array of linked lists and a hash code function, as follows:\n",
    "\n",
    "1. Compute the key's hash code (which will usually be an int or a long) using the **hash function**. Note, different keys could have the same hash code due to an infinite number of keys and a finite number of ints.\n",
    "2. Map the hashcode to the index of an array. This could be done with something like hash(key) % array_max_length. Different hash codes could map to the same index.\n",
    "3. At this index, there is a linked list of keys and values. We use a linked list to account for collisions.\n",
    "\n",
    "<img src=\"assets/hash-table.png\" width=\"400\">\n",
    "\n",
    "An implementation of a hash table is shown below."
   ]
  },
  {
   "cell_type": "code",
   "execution_count": 77,
   "id": "8b8996c4",
   "metadata": {},
   "outputs": [],
   "source": [
    "class HashTable:\n",
    "    def __init__(self):\n",
    "        self.ARRAY_LENGTH = 10\n",
    "        self.array = [None] * self.ARRAY_LENGTH\n",
    "\n",
    "    def add(self, key: str, val: float):\n",
    "        idx = self.__hash_function(key)\n",
    "        if self.array[idx] == None:\n",
    "            self.array[idx] = LinkedList()\n",
    "        self.array[idx].insert(key, val) \n",
    "    \n",
    "    def get(self, key: str):\n",
    "        idx = self.__hash_function(key)\n",
    "        val = self.array[idx].find(key)\n",
    "        \n",
    "        if val is None:\n",
    "            raise KeyError(\"Key was not found!\")\n",
    "        else:\n",
    "            return val\n",
    "    \n",
    "    def __hash_function(self, string: str) -> int: \n",
    "        hash_val = 0\n",
    "        for i, ch in enumerate(string):\n",
    "            hash_val += (i + len(string)) ** ord(ch)\n",
    "        # Perform modulus to stay in range of max length\n",
    "        return hash_val % self.ARRAY_LENGTH\n",
    "    \n",
    "    def __str__(self):\n",
    "        s = \"\"\n",
    "        for i in range(len(self.array)):\n",
    "            s += f\"{i}: {self.array[i]}\\n\"\n",
    "        return s\n",
    "\n",
    "class LinkedList:\n",
    "    def __init__(self):\n",
    "        self.head = None\n",
    "        self.curr = None\n",
    "    \n",
    "    def insert(self, key: str, val: float):\n",
    "        if self.head is None:\n",
    "            self.head = self.Node(key, val)\n",
    "            self.curr = self.head\n",
    "        else:\n",
    "            self.curr.next = self.Node(key, val)\n",
    "            self.curr = self.curr.next\n",
    "    \n",
    "    def find(self, key: str):\n",
    "        if self.head is None:\n",
    "            return self.head\n",
    "        \n",
    "        curr = self.head\n",
    "        while True:\n",
    "            if curr.key == key:\n",
    "                return curr.val\n",
    "            if curr.next is None:\n",
    "                return curr.next\n",
    "            curr = curr.next\n",
    "    \n",
    "    def __str__(self):\n",
    "        s = \"\"\n",
    "        if self.head is None:\n",
    "            return s\n",
    "        \n",
    "        curr = self.head\n",
    "        while True:\n",
    "            s += f\"({curr.key}, {curr.val})\"\n",
    "            \n",
    "            if curr.next is None:\n",
    "                return s\n",
    "            \n",
    "            s += \", \"\n",
    "            curr = curr.next\n",
    "    \n",
    "    class Node: \n",
    "        def __init__(self, key: str, val: float):\n",
    "            self.key = key\n",
    "            self.val = val\n",
    "            self.next: Node = None"
   ]
  },
  {
   "cell_type": "code",
   "execution_count": 84,
   "id": "1e48d9b3",
   "metadata": {},
   "outputs": [
    {
     "name": "stdout",
     "output_type": "stream",
     "text": [
      "0: (ability, 9), (absolute, 20), (accommodate, 48), (accounts, 61), (achievement, 73), (acquisition, 85), (acrylic, 91)\n",
      "1: (a, 0), (ab, 4), (abandoned, 5), (aboriginal, 11), (accent, 32), (accept, 33), (access, 39), (accessible, 42), (accessory, 45), (accidents, 47), (accommodation, 49), (accomplish, 53), (accounting, 60), (accurately, 66)\n",
      "2: (aaa, 2), (able, 10), (absence, 18), (academic, 28), (acc, 31), (accepts, 38), (accessed, 40), (accompanied, 51), (accordingly, 57), (accused, 67), (ace, 69), (acm, 80), (acne, 81), (acre, 87), (act, 92), (actions, 95)\n",
      "3: (aaron, 3), (about, 13), (absorption, 22), (abstracts, 24), (acceptable, 34), (accepting, 37), (accessibility, 41), (accordance, 55), (accredited, 63), (acdbentity, 68), (acids, 77), (across, 90)\n",
      "4: (abc, 6), (abs, 17), (abu, 25), (academy, 30), (accepted, 36), (accomplished, 54), (account, 58), (accuracy, 64), (acer, 70), (acknowledge, 78), (acrobat, 89)\n",
      "5: (aa, 1), (absolutely, 21), (achieving, 75), (acting, 93), (action, 94), (active, 98)\n",
      "6: (abstract, 23), (accompanying, 52), (accurate, 65), (achievements, 74), (acid, 76), (acknowledged, 79), (acoustic, 82), (acquire, 83), (actively, 99)\n",
      "7: (above, 14), (absent, 19), (academics, 29), (accessing, 43), (accommodations, 50), (according, 56), (acres, 88), (activated, 96), (activation, 97)\n",
      "8: (aberdeen, 7), (abortion, 12), (abraham, 15), (accessories, 44), (accident, 46), (achieve, 71), (achieved, 72), (acquired, 84), (acquisitions, 86)\n",
      "9: (abilities, 8), (abroad, 16), (abuse, 26), (ac, 27), (acceptance, 35), (accountability, 59), (accreditation, 62)\n",
      "\n",
      "59\n"
     ]
    }
   ],
   "source": [
    "import requests\n",
    "import random\n",
    "\n",
    "hash_table = HashTable()\n",
    "\n",
    "content = requests.get(\"https://www.mit.edu/~ecprice/wordlist.10000\").content\n",
    "words = content.splitlines()\n",
    "\n",
    "for i, word in enumerate(words[:100]):\n",
    "    # Convert from byte to string and store in hash table\n",
    "    hash_table.add(word.decode(\"utf-8\"), i)\n",
    "\n",
    "print(hash_table)\n",
    "print(hash_table.get(\"accountability\"))"
   ]
  },
  {
   "cell_type": "markdown",
   "id": "80875218-8e9d-4973-9ce6-ebeea07fb783",
   "metadata": {},
   "source": [
    "#### ArrayList & Resizable Arrays\n",
    "\n",
    "In certain languages, when you need array-like data structures with dynamic resizing, you usually use an ArrayList. An ArrayList resizes itself as needed while still providing **O(1)** access. Each resizing takes O(n) time but due to **amortized** insertion time is still O(1).\n",
    "\n",
    "Typically, when the array is full, the array doubles in size (although in some languages like Java the size might increase by 50% or another value).\n",
    "\n",
    "An implementation of an ArrayList is shown below.\n"
   ]
  },
  {
   "cell_type": "code",
   "execution_count": 9,
   "id": "28737e71-7860-4614-bdf5-76f3b3265325",
   "metadata": {},
   "outputs": [],
   "source": [
    "class ArrayList:\n",
    "    def __init__(self):\n",
    "        self.MAX_LENGTH = 10\n",
    "        self.size = 0\n",
    "        self._array = [None] * self.MAX_LENGTH\n",
    "    \n",
    "    def add(self, item):\n",
    "        if self.size >= self.MAX_LENGTH:\n",
    "            self.__grow()\n",
    "        self._array[self.size] = item\n",
    "        self.size += 1\n",
    "    \n",
    "    def get(self, index):\n",
    "        if index >= self.size or index < 0:\n",
    "            raise IndexError(\"List index out of range\")\n",
    "        return self.array[index]\n",
    "    \n",
    "    def delete(self, index):\n",
    "        if index >= self.size or index < 0:\n",
    "            raise IndexError(\"List index out of range\")\n",
    "        \n",
    "        for i in range(index, self.size):\n",
    "            self._array[i] = self._array[i+1]\n",
    "        \n",
    "        self.size -= 1\n",
    "    \n",
    "    def __grow(self):\n",
    "        self.MAX_LENGTH *= 2\n",
    "        new_array = [None] * self.MAX_LENGTH\n",
    "        for i, item in enumerate(self._array):\n",
    "            new_array[i] = item\n",
    "        self._array = new_array\n",
    "        print(f\"New array length is {len(self._array)}\")\n",
    "    \n",
    "    @property\n",
    "    def array(self):\n",
    "        \"\"\"Getter for array.\"\"\"\n",
    "        return self._array[:self.size]"
   ]
  },
  {
   "cell_type": "code",
   "execution_count": 10,
   "id": "88cba4d6-2a54-4ebb-a2c1-f339ede0b3b6",
   "metadata": {},
   "outputs": [
    {
     "name": "stdout",
     "output_type": "stream",
     "text": [
      "New array length is 20\n",
      "New array length is 40\n",
      "New array length is 80\n",
      "New array length is 160\n",
      "0 89\n"
     ]
    },
    {
     "ename": "IndexError",
     "evalue": "List index out of range",
     "output_type": "error",
     "traceback": [
      "\u001b[1;31m---------------------------------------------------------------------------\u001b[0m",
      "\u001b[1;31mIndexError\u001b[0m                                Traceback (most recent call last)",
      "\u001b[1;32m~\\AppData\\Local\\Temp/ipykernel_16904/2340740623.py\u001b[0m in \u001b[0;36m<module>\u001b[1;34m\u001b[0m\n\u001b[0;32m      5\u001b[0m \u001b[1;33m\u001b[0m\u001b[0m\n\u001b[0;32m      6\u001b[0m \u001b[0mprint\u001b[0m\u001b[1;33m(\u001b[0m\u001b[0marray_list\u001b[0m\u001b[1;33m.\u001b[0m\u001b[0mget\u001b[0m\u001b[1;33m(\u001b[0m\u001b[1;36m0\u001b[0m\u001b[1;33m)\u001b[0m\u001b[1;33m,\u001b[0m \u001b[0marray_list\u001b[0m\u001b[1;33m.\u001b[0m\u001b[0mget\u001b[0m\u001b[1;33m(\u001b[0m\u001b[1;36m89\u001b[0m\u001b[1;33m)\u001b[0m\u001b[1;33m)\u001b[0m\u001b[1;33m\u001b[0m\u001b[1;33m\u001b[0m\u001b[0m\n\u001b[1;32m----> 7\u001b[1;33m \u001b[0mprint\u001b[0m\u001b[1;33m(\u001b[0m\u001b[0marray_list\u001b[0m\u001b[1;33m.\u001b[0m\u001b[0mget\u001b[0m\u001b[1;33m(\u001b[0m\u001b[1;36m90\u001b[0m\u001b[1;33m)\u001b[0m\u001b[1;33m)\u001b[0m\u001b[1;33m\u001b[0m\u001b[1;33m\u001b[0m\u001b[0m\n\u001b[0m",
      "\u001b[1;32m~\\AppData\\Local\\Temp/ipykernel_16904/1346475811.py\u001b[0m in \u001b[0;36mget\u001b[1;34m(self, index)\u001b[0m\n\u001b[0;32m     13\u001b[0m     \u001b[1;32mdef\u001b[0m \u001b[0mget\u001b[0m\u001b[1;33m(\u001b[0m\u001b[0mself\u001b[0m\u001b[1;33m,\u001b[0m \u001b[0mindex\u001b[0m\u001b[1;33m)\u001b[0m\u001b[1;33m:\u001b[0m\u001b[1;33m\u001b[0m\u001b[1;33m\u001b[0m\u001b[0m\n\u001b[0;32m     14\u001b[0m         \u001b[1;32mif\u001b[0m \u001b[0mindex\u001b[0m \u001b[1;33m>=\u001b[0m \u001b[0mself\u001b[0m\u001b[1;33m.\u001b[0m\u001b[0msize\u001b[0m \u001b[1;32mor\u001b[0m \u001b[0mindex\u001b[0m \u001b[1;33m<\u001b[0m \u001b[1;36m0\u001b[0m\u001b[1;33m:\u001b[0m\u001b[1;33m\u001b[0m\u001b[1;33m\u001b[0m\u001b[0m\n\u001b[1;32m---> 15\u001b[1;33m             \u001b[1;32mraise\u001b[0m \u001b[0mIndexError\u001b[0m\u001b[1;33m(\u001b[0m\u001b[1;34m\"List index out of range\"\u001b[0m\u001b[1;33m)\u001b[0m\u001b[1;33m\u001b[0m\u001b[1;33m\u001b[0m\u001b[0m\n\u001b[0m\u001b[0;32m     16\u001b[0m         \u001b[1;32mreturn\u001b[0m \u001b[0mself\u001b[0m\u001b[1;33m.\u001b[0m\u001b[0marray\u001b[0m\u001b[1;33m[\u001b[0m\u001b[0mindex\u001b[0m\u001b[1;33m]\u001b[0m\u001b[1;33m\u001b[0m\u001b[1;33m\u001b[0m\u001b[0m\n\u001b[0;32m     17\u001b[0m \u001b[1;33m\u001b[0m\u001b[0m\n",
      "\u001b[1;31mIndexError\u001b[0m: List index out of range"
     ]
    }
   ],
   "source": [
    "array_list = ArrayList()\n",
    "\n",
    "for i in range(90):\n",
    "    array_list.add(i)\n",
    "\n",
    "print(array_list.get(0), array_list.get(89))\n",
    "print(array_list.get(90))"
   ]
  },
  {
   "cell_type": "code",
   "execution_count": 11,
   "id": "ff0c10d7-99f6-48d7-91cc-18a76254eb54",
   "metadata": {},
   "outputs": [
    {
     "name": "stdout",
     "output_type": "stream",
     "text": [
      "90\n",
      "89\n",
      "[0, 1, 2, 4, 5, 6, 7, 8, 9, 10, 11, 12, 13, 14, 15, 16, 17, 18, 19, 20, 21, 22, 23, 24, 25, 26, 27, 28, 29, 30, 31, 32, 33, 34, 35, 36, 37, 38, 39, 40, 41, 42, 43, 44, 45, 46, 47, 48, 49, 50, 51, 52, 53, 54, 55, 56, 57, 58, 59, 60, 61, 62, 63, 64, 65, 66, 67, 68, 69, 70, 71, 72, 73, 74, 75, 76, 77, 78, 79, 80, 81, 82, 83, 84, 85, 86, 87, 88, 89]\n"
     ]
    }
   ],
   "source": [
    "print(array_list.size)\n",
    "array_list.delete(3)\n",
    "print(array_list.size)\n",
    "print(array_list.array)"
   ]
  },
  {
   "cell_type": "markdown",
   "id": "b60e41ad-872b-4367-b0e8-e004173d37e8",
   "metadata": {},
   "source": [
    "#### StringBuilder\n",
    "\n",
    "Assuming all strings are of an equal length x, concatenating a list of strings would take O($xn^{2}$) time using the algorithm below: \n",
    "\n",
    "```\n",
    "String joinWords(String[] words) {\n",
    "    String sentence = \"\";\n",
    "    for (String w : words) {\n",
    "        sentence = sentence + w;\n",
    "    }\n",
    "}\n",
    "```\n",
    "\n",
    "On each concatenation, a new copy of the string is created and the two strings are copied over character by character. The amount of copied characters is O(x + 2x + 3x + ... + nx) = O($xn^{2}$).\n",
    "\n",
    "Alternatively, a StringBuilder creates a resizable array of all the strings, and copies them back to a string **only when necessary**.\n",
    "\n",
    "```\n",
    "String joinWords(String[] words) {\n",
    "    StringBuilder sentence = new StringBuilder();\n",
    "    for (String w : words) {\n",
    "        sentence.append(w);\n",
    "    }\n",
    "    return sentence.toString();\n",
    "}\n",
    "```\n",
    "\n",
    "A StringBuilder is basically an ArrayList for strings with a toString() method for concatenating the"
   ]
  },
  {
   "cell_type": "code",
   "execution_count": null,
   "id": "339fde5f-e82f-4d4c-bc11-65f6fa0ec0e1",
   "metadata": {},
   "outputs": [],
   "source": []
  }
 ],
 "metadata": {
  "kernelspec": {
   "display_name": "Python 3 (ipykernel)",
   "language": "python",
   "name": "python3"
  },
  "language_info": {
   "codemirror_mode": {
    "name": "ipython",
    "version": 3
   },
   "file_extension": ".py",
   "mimetype": "text/x-python",
   "name": "python",
   "nbconvert_exporter": "python",
   "pygments_lexer": "ipython3",
   "version": "3.9.5"
  }
 },
 "nbformat": 4,
 "nbformat_minor": 5
}
