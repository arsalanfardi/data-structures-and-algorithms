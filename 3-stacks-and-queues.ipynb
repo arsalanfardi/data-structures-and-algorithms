{
 "cells": [
  {
   "cell_type": "markdown",
   "id": "a7e0e7c3-2a10-4b72-8f6e-a157d558c680",
   "metadata": {},
   "source": [
    "#### Stacks\n",
    "\n",
    "A stack uses last-in first-out (**LIFO**) ordering. It uses the following operations:\n",
    "- pop(): Remove an item from the top of the stack\n",
    "- push(item): Add an item to the top of the stack\n",
    "- peek(): Returns the top of the stack\n",
    "- isEmpty(): Returns true if and only if the stack is empty\n",
    "\n",
    "A stack does not offer constant-time access to the ith item, buit it does allow **constant-time adds and removes**."
   ]
  },
  {
   "cell_type": "code",
   "execution_count": 29,
   "id": "d436ae26-5edc-46ab-bf9b-314b28d1eacc",
   "metadata": {},
   "outputs": [
    {
     "name": "stdout",
     "output_type": "stream",
     "text": [
      "True\n",
      "The stack is empty\n",
      "10\n",
      "9\n",
      "8\n",
      "7\n",
      "6\n",
      "5\n",
      "4\n",
      "3\n",
      "2\n",
      "1\n",
      "True\n"
     ]
    }
   ],
   "source": [
    "class Stack:\n",
    "    class EmptyStackException(Exception):\n",
    "        pass\n",
    "\n",
    "    class StackNode:\n",
    "        def __init__(self, data):\n",
    "            self.data = data\n",
    "            self.next: StackNode = None\n",
    "    \n",
    "    def __init__(self):\n",
    "        self.top: StackNode = None\n",
    "\n",
    "    def pop(self):\n",
    "        if not self.top:\n",
    "            raise self.EmptyStackException(\"The stack is empty\")\n",
    "        data = self.top.data\n",
    "        self.top = self.top.next\n",
    "        return data\n",
    "    \n",
    "    def push(self, data):\n",
    "        new_node = self.StackNode(data)\n",
    "        new_node.next = self.top\n",
    "        self.top = new_node\n",
    "    \n",
    "    def peek(self):\n",
    "        if not self.top:\n",
    "            raise self.EmptyStackException(\"The stack is empty\")\n",
    "        return self.top.data\n",
    "    \n",
    "    def isEmpty(self):\n",
    "        return not self.top\n",
    "    \n",
    "\n",
    "stack = Stack()\n",
    "print(stack.isEmpty())\n",
    "try:\n",
    "    print(stack.peek())\n",
    "except Exception as e:\n",
    "    print(e)\n",
    "\n",
    "for i in range(1, 11):\n",
    "    stack.push(i)\n",
    "\n",
    "while not stack.isEmpty():\n",
    "    print(stack.pop())\n",
    "print(stack.isEmpty())\n"
   ]
  },
  {
   "cell_type": "markdown",
   "id": "6988b85d-3cc1-4977-9e58-c500785e2058",
   "metadata": {},
   "source": [
    "A stack can be used to implement a recursive algorithm iteratively, take for instance the fibonnaci sequence:"
   ]
  },
  {
   "cell_type": "code",
   "execution_count": 54,
   "id": "e7d072d4-32c3-46d3-9fc0-3c4291e13884",
   "metadata": {},
   "outputs": [
    {
     "name": "stdout",
     "output_type": "stream",
     "text": [
      "5\n",
      "5\n"
     ]
    }
   ],
   "source": [
    "def fibonacci(n: int):\n",
    "    if n == 0:\n",
    "        return 0\n",
    "    elif n == 1:\n",
    "        return 1\n",
    "    \n",
    "    return fibonacci(n-1) + fibonacci(n-2)\n",
    "\n",
    "print(fibonacci(5))\n",
    "\n",
    "def fibonacci_stack(n: int):\n",
    "    stack = Stack()\n",
    "    stack.push(n)\n",
    "    res = 0\n",
    "    while not stack.isEmpty():\n",
    "        n = stack.pop()\n",
    "        if n == 0:\n",
    "            pass\n",
    "        elif n == 1:\n",
    "            res += 1\n",
    "        else:\n",
    "            stack.push(n - 1)\n",
    "            stack.push(n - 2)\n",
    "\n",
    "    return res\n",
    "\n",
    "print(fibonacci_stack(5))"
   ]
  },
  {
   "cell_type": "markdown",
   "id": "89a1617d-771f-48b2-b7e4-46a5e17a40bd",
   "metadata": {},
   "source": [
    "#### Queues\n",
    "\n",
    "A queue uses first-in first-out (**FIFO**) ordering. It uses the following operations:\n",
    "- add(): Add an item to the end of the queue\n",
    "- remove(): Remove the first item in the queue\n",
    "- peek(): Returns the top of the queue\n",
    "- isEmpty(): Returns true if and only if the queue is empty\n",
    "\n",
    "A stack does not offer constant-time access to the ith item, buit it does allow **constant-time adds and removes**."
   ]
  },
  {
   "cell_type": "code",
   "execution_count": 55,
   "id": "cb240964-22c5-44a9-a0d9-482b6d43409a",
   "metadata": {},
   "outputs": [
    {
     "ename": "IndentationError",
     "evalue": "expected an indented block (Temp/ipykernel_41196/744176853.py, line 31)",
     "output_type": "error",
     "traceback": [
      "\u001b[1;36m  File \u001b[1;32m\"C:\\Users\\arsal\\AppData\\Local\\Temp/ipykernel_41196/744176853.py\"\u001b[1;36m, line \u001b[1;32m31\u001b[0m\n\u001b[1;33m    def peek(self):\u001b[0m\n\u001b[1;37m    ^\u001b[0m\n\u001b[1;31mIndentationError\u001b[0m\u001b[1;31m:\u001b[0m expected an indented block\n"
     ]
    }
   ],
   "source": [
    "class Queue:\n",
    "    class EmptyStackException(Exception):\n",
    "        pass\n",
    "\n",
    "    class QueueNode:\n",
    "        def __init__(self, data):\n",
    "            self.data = data\n",
    "            self.next: QueueNode = None\n",
    "    \n",
    "    def __init__(self):\n",
    "        self.first: QueueNode = None\n",
    "        self.last: QueueNode = None\n",
    "\n",
    "    def add(self, data):\n",
    "        node = QueueNode(data)\n",
    "        if self.last != None:\n",
    "            self.last.next = node\n",
    "\n",
    "        self.last = node\n",
    "\n",
    "        if not self.first:\n",
    "            self.first = node\n",
    "    \n",
    "    def remove(self):\n",
    "        if not self.first:\n",
    "            raise self.EmptyQueueException(\"The queue is empty\")\n",
    "        data = self.first.data\n",
    "        self.first = self.first.next\n",
    "        if not self.first:\n",
    "            self.last = None\n",
    "        return data\n",
    "\n",
    "    def peek(self):\n",
    "        if not self.first:\n",
    "            raise self.EmptyStackException(\"The queue is empty\")\n",
    "        return self.first.data\n",
    "    \n",
    "    def isEmpty(self):\n",
    "        return not self.first\n",
    "\n",
    "queue = Queue()\n",
    "print(queue.isEmpty())\n",
    "try:\n",
    "    print(queue.peek())\n",
    "except Exception as e:\n",
    "    print(e)\n",
    "\n",
    "for i in range(1, 11):\n",
    "    queue.add(i)\n",
    "\n",
    "while not stack.isEmpty():\n",
    "    print(stack.pop())\n",
    "print(stack.isEmpty())"
   ]
  },
  {
   "cell_type": "code",
   "execution_count": null,
   "id": "a8ce94f3-129c-4e4e-afe8-50ef6665cc63",
   "metadata": {},
   "outputs": [],
   "source": []
  }
 ],
 "metadata": {
  "kernelspec": {
   "display_name": "Python 3 (ipykernel)",
   "language": "python",
   "name": "python3"
  },
  "language_info": {
   "codemirror_mode": {
    "name": "ipython",
    "version": 3
   },
   "file_extension": ".py",
   "mimetype": "text/x-python",
   "name": "python",
   "nbconvert_exporter": "python",
   "pygments_lexer": "ipython3",
   "version": "3.9.5"
  }
 },
 "nbformat": 4,
 "nbformat_minor": 5
}
