{
 "cells": [
  {
   "cell_type": "markdown",
   "metadata": {},
   "source": [
    "## Binary Trees\n"
   ]
  },
  {
   "cell_type": "markdown",
   "metadata": {},
   "source": [
    "[104. Maximum Depth of Binary Tree](https://leetcode.com/problems/maximum-depth-of-binary-tree/description/)\n",
    "\n",
    "**Time complexity**: O(n) - visit each node<br>\n",
    "**Space complexity**: O(log n) using DFS\n",
    "\n",
    "- For each node return **one plus** the max height of its left and right subtrees\n",
    "- \"0\" is the base case when you return the end of the tree"
   ]
  },
  {
   "cell_type": "code",
   "execution_count": 1,
   "metadata": {},
   "outputs": [],
   "source": [
    "from typing import Optional\n",
    "\n",
    "class TreeNode:\n",
    "  def __init__(self, val=0, left=None, right=None):\n",
    "    self.val = val\n",
    "    self.left = left\n",
    "    self.right = right\n",
    "\n",
    "class RecursiveSolution:\n",
    "  def maxDepth(self, root: Optional[TreeNode]) -> Optional[TreeNode]:\n",
    "    if not root:\n",
    "      return 0\n",
    "    \n",
    "    return 1 + max(self.maxDepth(root.left), self.maxDepth(root.right))\n",
    "\n",
    "class IterativeSolution:\n",
    "  def maxDepth(self, root):\n",
    "    stack = []\n",
    "    if root:\n",
    "      stack.append((root, 1))\n",
    "\n",
    "    max_depth = 0\n",
    "    while len(stack) != 0:\n",
    "      node, depth = stack.pop()\n",
    "      max_depth = max(depth, max_depth)\n",
    "\n",
    "      if node.left:\n",
    "        stack.append([node.left, depth + 1])\n",
    "      \n",
    "      if node.right:\n",
    "        stack.append([node.right, depth + 1])\n",
    "\n",
    "    return max_depth\n",
    "\n"
   ]
  },
  {
   "cell_type": "markdown",
   "metadata": {},
   "source": [
    "[226. Invert Binary Tree](https://leetcode.com/problems/invert-binary-tree/description/)\n",
    "\n",
    "**Time complexity**: O(n) - visit each node<br>\n",
    "**Space complexity**: O(log n) using DFS\n",
    "\n",
    "- A DFS pre-order traversal (current node is processed first)\n",
    "- Use a temp variable to keep track of the node on one side\n",
    "- Proceed to flip the right and left nodes for each node"
   ]
  },
  {
   "cell_type": "code",
   "execution_count": 5,
   "metadata": {},
   "outputs": [],
   "source": [
    "from typing import Optional\n",
    "\n",
    "class TreeNode:\n",
    "  def __init__(self, val=0, left=None, right=None):\n",
    "    self.val = val\n",
    "    self.left = left\n",
    "    self.right = right\n",
    "\n",
    "class RecursiveSolution:\n",
    "  def invertTree(self, root: Optional[TreeNode]) -> Optional[TreeNode]:\n",
    "    if not root:\n",
    "      return None\n",
    "    \n",
    "    left = root.left\n",
    "    root.left = self.invertTree(root.right)\n",
    "    root.right = self.invertTree(left)\n",
    "\n",
    "    return root\n",
    "\n",
    "class IterativeSolution:\n",
    "  def invertTree(self, root):\n",
    "    if not root:\n",
    "        return None\n",
    "    \n",
    "    stack = [root]\n",
    "\n",
    "    while len(stack) != 0:\n",
    "      node = stack.pop()\n",
    "\n",
    "      left = node.left\n",
    "      node.left = node.right\n",
    "      node.right = left\n",
    "\n",
    "      if node.left:\n",
    "        stack.append(node.left)\n",
    "      \n",
    "      if node.right:\n",
    "        stack.append(node.right)\n",
    "\n",
    "    return root\n",
    "\n"
   ]
  },
  {
   "cell_type": "markdown",
   "metadata": {},
   "source": [
    "[543. Diameter of Binary Tree](https://leetcode.com/problems/diameter-of-binary-tree/description/)\n",
    "\n",
    "**Time complexity**: O(n) - visit each node<br>\n",
    "**Space complexity**: O(log n) using DFS\n",
    "\n",
    "- The longest path is going to be between two leaf nodes\n",
    "- Each node can calculate the longest path that goes through it by adding left depth + max depth\n",
    "- Given the above, this becomes a variation of a max depth problem where we additionally need a variable to track max diameter"
   ]
  },
  {
   "cell_type": "code",
   "execution_count": 4,
   "metadata": {},
   "outputs": [],
   "source": [
    "from typing import Optional\n",
    "\n",
    "class TreeNode:\n",
    "  def __init__(self, val=0, left=None, right=None):\n",
    "    self.val = val\n",
    "    self.left = left\n",
    "    self.right = right\n",
    "\n",
    "class Solution:\n",
    "  def diameterOfBinaryTree(self, root: Optional[TreeNode]) -> int:\n",
    "    if not root:\n",
    "      return 0\n",
    "\n",
    "    self.diameter = 0\n",
    "    self.max_depth(root)\n",
    "\n",
    "    return self.diameter\n",
    "  \n",
    "  def max_depth(self, root: TreeNode) -> int:\n",
    "    if not root:\n",
    "      return 0\n",
    "\n",
    "    l_depth = self.max_depth(root.left)\n",
    "    r_depth = self.max_depth(root.right)\n",
    "\n",
    "    self.diameter = max(self.diameter, l_depth + r_depth)\n",
    "\n",
    "    return 1 + max(l_depth, r_depth)\n"
   ]
  },
  {
   "cell_type": "code",
   "execution_count": null,
   "metadata": {},
   "outputs": [],
   "source": []
  }
 ],
 "metadata": {
  "kernelspec": {
   "display_name": "base",
   "language": "python",
   "name": "python3"
  },
  "language_info": {
   "codemirror_mode": {
    "name": "ipython",
    "version": 3
   },
   "file_extension": ".py",
   "mimetype": "text/x-python",
   "name": "python",
   "nbconvert_exporter": "python",
   "pygments_lexer": "ipython3",
   "version": "3.9.5"
  }
 },
 "nbformat": 4,
 "nbformat_minor": 2
}
