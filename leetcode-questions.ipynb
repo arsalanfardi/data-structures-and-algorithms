{
 "cells": [
  {
   "cell_type": "markdown",
   "metadata": {},
   "source": [
    "## Linked Lists"
   ]
  },
  {
   "cell_type": "markdown",
   "metadata": {},
   "source": [
    "[21. Merge Two Sorted Lists (Easy)](https://leetcode.com/problems/merge-two-sorted-lists/description/)\n",
    "\n",
    "**Time complexity**: O(n + m)<br>\n",
    "**Space complexity**: O(1)<br>\n",
    "\n",
    "- Three pointers, one for final list (prev), and one for each list1 and list2\n",
    "- Traverse both lists and compare values inserting to prev.next in order\n",
    "- Remember to insert the remainder of the longer list at the end"
   ]
  },
  {
   "cell_type": "code",
   "execution_count": 1,
   "metadata": {},
   "outputs": [],
   "source": [
    "from typing import Optional\n",
    "\n",
    "class ListNode:\n",
    "  def __init__(self, val=0, next=None):\n",
    "    self.val = val\n",
    "    self.next = next\n",
    "\n",
    "class Solution:\n",
    "  def mergeTwoLists(self, list1: Optional[ListNode], list2: Optional[ListNode]) -> Optional[ListNode]:\n",
    "    preHead = prev = ListNode(1)  # Dummy head pointer and reference to current position in merge\n",
    "    curr1 = list1\n",
    "    curr2 = list2\n",
    "\n",
    "    while curr1 is not None and curr2 is not None:\n",
    "      if curr1.val < curr2.val:\n",
    "        prev.next = curr1\n",
    "        curr1 = curr1.next\n",
    "      else:\n",
    "        prev.next = curr2\n",
    "        curr2 = curr2.next\n",
    "      prev = prev.next\n",
    "\n",
    "    # Insert remainder of non-null list if list lengths are unequal\n",
    "    prev.next = curr1 if curr1 else curr2\n",
    "\n",
    "    return preHead.next"
   ]
  },
  {
   "cell_type": "markdown",
   "metadata": {},
   "source": [
    "[141. Linked List Cycle (Easy)](https://leetcode.com/problems/linked-list-cycle/description/)\n",
    "\n",
    "**Time complexity**: O(n)<br>\n",
    "**Space complexity**: O(1)<br>\n",
    "\n",
    "- Use a runner (or fast) pointer which moves twice the speed of a slow pointer, eventually they will collide if there is a cycle"
   ]
  },
  {
   "cell_type": "code",
   "execution_count": 2,
   "metadata": {},
   "outputs": [],
   "source": [
    "from typing import Optional\n",
    "\n",
    "class ListNode:\n",
    "  def __init__(self, val=0, next=None):\n",
    "    self.val = val\n",
    "    self.next = next\n",
    "\n",
    "class Solution:\n",
    "  def hasCycle(self, head: Optional[ListNode]) -> bool:\n",
    "    if not head:\n",
    "      return False\n",
    "    \n",
    "    curr, runner = head, head.next\n",
    "\n",
    "    while curr and runner and runner.next is not None:\n",
    "      if curr == runner:\n",
    "        return True\n",
    "      \n",
    "      curr = curr.next\n",
    "      runner = runner.next.next\n",
    "    \n",
    "    return False\n"
   ]
  },
  {
   "cell_type": "markdown",
   "metadata": {},
   "source": [
    "[206. Reverse Linked List (Easy)](https://leetcode.com/problems/reverse-linked-list/description/)\n",
    "\n",
    "**Time complexity**: O(n)<br>\n",
    "**Space complexity**: O(1)<br>\n",
    "\n",
    "- Traverse each node and insert the current node into the next position of the dummy head pointer"
   ]
  },
  {
   "cell_type": "code",
   "execution_count": 1,
   "metadata": {},
   "outputs": [],
   "source": [
    "from typing import Optional\n",
    "\n",
    "class ListNode:\n",
    "  def __init__(self, val=0, next=None):\n",
    "    self.val = val\n",
    "    self.next = next\n",
    "\n",
    "class Solution:\n",
    "    def reverseList(self, head: Optional[ListNode]) -> Optional[ListNode]:\n",
    "      preHead, curr = ListNode(-1), head\n",
    "\n",
    "      while curr is not None:\n",
    "        tmp = curr.next\n",
    "        curr.next = preHead.next\n",
    "        preHead.next = curr\n",
    "        curr = tmp\n",
    "        \n",
    "      return preHead.next"
   ]
  },
  {
   "cell_type": "markdown",
   "metadata": {},
   "source": [
    "## Binary Trees\n"
   ]
  },
  {
   "cell_type": "markdown",
   "metadata": {},
   "source": [
    "[100. Same Tree (Easy)](https://leetcode.com/problems/same-tree/description/)\n",
    "\n",
    "**Time complexity**: O(n) - visit each node<br>\n",
    "**Space complexity**: O(log n) using DFS <br>\n",
    "**Note:** n is the number of nodes in the smallest tree\n",
    "\n",
    "- Traverse tree and ensure values are equal to each other **or** both are null at the same time"
   ]
  },
  {
   "cell_type": "code",
   "execution_count": null,
   "metadata": {},
   "outputs": [],
   "source": [
    "from typing import Optional\n",
    "\n",
    "class TreeNode:\n",
    "  def __init__(self, val=0, left=None, right=None):\n",
    "    self.val = val\n",
    "    self.left = left\n",
    "    self.right = right\n",
    "\n",
    "class RecursiveSolution:\n",
    "  def isSameTree(self, p: Optional[TreeNode], q: Optional[TreeNode]) -> bool:\n",
    "    if p and q:\n",
    "      return p.val == q.val and self.isSameTree(p.left, q.left) and self.isSameTree(p.right, q.right)\n",
    "    return not p and not q\n",
    "  \n",
    "class IterativeSolution:\n",
    "  def isSameTree(self, p: Optional[TreeNode], q: Optional[TreeNode]) -> bool:\n",
    "    stack = [(p, q)]\n",
    "\n",
    "    while stack:\n",
    "      p, q = stack.pop()\n",
    "      if p and q and p.val == q.val:\n",
    "        stack.append((p.left, q.left))\n",
    "        stack.append((p.right, q.right))\n",
    "      elif p or q: # Ensure both are null\n",
    "        return False\n",
    "    \n",
    "    return True"
   ]
  },
  {
   "cell_type": "markdown",
   "metadata": {},
   "source": [
    "[104. Maximum Depth of Binary Tree (Easy)](https://leetcode.com/problems/maximum-depth-of-binary-tree/description/)\n",
    "\n",
    "**Time complexity**: O(n) - visit each node<br>\n",
    "**Space complexity**: O(log n) using DFS\n",
    "\n",
    "- For each node return **one plus** the max height of its left and right subtrees\n",
    "- \"0\" is the base case when you return the end of the tree"
   ]
  },
  {
   "cell_type": "code",
   "execution_count": 2,
   "metadata": {},
   "outputs": [],
   "source": [
    "from typing import Optional\n",
    "\n",
    "class TreeNode:\n",
    "  def __init__(self, val=0, left=None, right=None):\n",
    "    self.val = val\n",
    "    self.left = left\n",
    "    self.right = right\n",
    "\n",
    "class RecursiveSolution:\n",
    "  def maxDepth(self, root: Optional[TreeNode]) -> Optional[TreeNode]:\n",
    "    if not root:\n",
    "      return 0\n",
    "    \n",
    "    return 1 + max(self.maxDepth(root.left), self.maxDepth(root.right))\n",
    "\n",
    "class IterativeSolution:\n",
    "  def maxDepth(self, root):\n",
    "    stack = []\n",
    "    if root:\n",
    "      stack.append((root, 1))\n",
    "\n",
    "    max_depth = 0\n",
    "    while len(stack) != 0:\n",
    "      node, depth = stack.pop()\n",
    "      max_depth = max(depth, max_depth)\n",
    "\n",
    "      if node.left:\n",
    "        stack.append([node.left, depth + 1])\n",
    "      \n",
    "      if node.right:\n",
    "        stack.append([node.right, depth + 1])\n",
    "\n",
    "    return max_depth\n",
    "\n"
   ]
  },
  {
   "cell_type": "markdown",
   "metadata": {},
   "source": [
    "[226. Invert Binary Tree (Easy)](https://leetcode.com/problems/invert-binary-tree/description/)\n",
    "\n",
    "**Time complexity**: O(n) - visit each node<br>\n",
    "**Space complexity**: O(log n) using DFS\n",
    "\n",
    "- A DFS pre-order traversal (current node is processed first)\n",
    "- Use a temp variable to keep track of the node on one side\n",
    "- Proceed to flip the right and left nodes for each node"
   ]
  },
  {
   "cell_type": "code",
   "execution_count": 5,
   "metadata": {},
   "outputs": [],
   "source": [
    "from typing import Optional\n",
    "\n",
    "class TreeNode:\n",
    "  def __init__(self, val=0, left=None, right=None):\n",
    "    self.val = val\n",
    "    self.left = left\n",
    "    self.right = right\n",
    "\n",
    "class RecursiveSolution:\n",
    "  def invertTree(self, root: Optional[TreeNode]) -> Optional[TreeNode]:\n",
    "    if not root:\n",
    "      return None\n",
    "    \n",
    "    left = root.left\n",
    "    root.left = self.invertTree(root.right)\n",
    "    root.right = self.invertTree(left)\n",
    "\n",
    "    return root\n",
    "\n",
    "class IterativeSolution:\n",
    "  def invertTree(self, root):\n",
    "    if not root:\n",
    "        return None\n",
    "    \n",
    "    stack = [root]\n",
    "\n",
    "    while len(stack) != 0:\n",
    "      node = stack.pop()\n",
    "\n",
    "      left = node.left\n",
    "      node.left = node.right\n",
    "      node.right = left\n",
    "\n",
    "      if node.left:\n",
    "        stack.append(node.left)\n",
    "      \n",
    "      if node.right:\n",
    "        stack.append(node.right)\n",
    "\n",
    "    return root\n",
    "\n"
   ]
  },
  {
   "cell_type": "markdown",
   "metadata": {},
   "source": [
    "[543. Diameter of Binary Tree (Easy)](https://leetcode.com/problems/diameter-of-binary-tree/description/)\n",
    "\n",
    "**Time complexity**: O(n) - visit each node<br>\n",
    "**Space complexity**: O(log n) using DFS\n",
    "\n",
    "- The longest path is going to be between two leaf nodes\n",
    "- Each node can calculate the longest path that goes through it by adding left depth + max depth\n",
    "- Given the above, this becomes a variation of a max depth problem where we additionally need a variable to track max diameter"
   ]
  },
  {
   "cell_type": "code",
   "execution_count": 3,
   "metadata": {},
   "outputs": [],
   "source": [
    "from typing import Optional\n",
    "\n",
    "class TreeNode:\n",
    "  def __init__(self, val=0, left=None, right=None):\n",
    "    self.val = val\n",
    "    self.left = left\n",
    "    self.right = right\n",
    "\n",
    "class Solution:\n",
    "  def diameterOfBinaryTree(self, root: Optional[TreeNode]) -> int:\n",
    "    if not root:\n",
    "      return 0\n",
    "\n",
    "    self.diameter = 0\n",
    "    self.max_depth(root)\n",
    "\n",
    "    return self.diameter\n",
    "  \n",
    "  def max_depth(self, root: TreeNode) -> int:\n",
    "    if not root:\n",
    "      return 0\n",
    "\n",
    "    l_depth = self.max_depth(root.left)\n",
    "    r_depth = self.max_depth(root.right)\n",
    "\n",
    "    self.diameter = max(self.diameter, l_depth + r_depth)\n",
    "\n",
    "    return 1 + max(l_depth, r_depth)\n"
   ]
  },
  {
   "cell_type": "markdown",
   "metadata": {},
   "source": [
    "[572. Subtree of Another Tree (Easy)](https://leetcode.com/problems/subtree-of-another-tree/description/)\n",
    "\n",
    "**Time complexity**: O(mn) - For each node (n) in the tree we do a check if its the same as the subtree, which takes O(m) time<br>\n",
    "**Space complexity**: O(log n + log m) using DFS because we could have the depth of both trees in memory<br>\n",
    "**Note:** m is the number of nodes in the  subtree\n",
    "\n",
    "- Perform the isSameTree algorithm for each node in the tree"
   ]
  },
  {
   "cell_type": "code",
   "execution_count": null,
   "metadata": {},
   "outputs": [],
   "source": [
    "class Solution:\n",
    "    def isSubtree(self, root: Optional[TreeNode], subRoot: Optional[TreeNode]) -> bool:\n",
    "        def isSameTree(root, subRoot) -> bool:\n",
    "            if root and subRoot:\n",
    "                return root.val == subRoot.val and isSameTree(root.left, subRoot.left) and isSameTree(root.right, subRoot.right)\n",
    "            else:\n",
    "                return root == subRoot # Both must be null\n",
    "\n",
    "        def dfs(root) -> bool:\n",
    "            if root is None:\n",
    "                return False\n",
    "            \n",
    "            return isSameTree(root, subRoot) or dfs(root.left) or dfs(root.right)\n",
    "        \n",
    "        return dfs(root)"
   ]
  }
 ],
 "metadata": {
  "kernelspec": {
   "display_name": "base",
   "language": "python",
   "name": "python3"
  },
  "language_info": {
   "codemirror_mode": {
    "name": "ipython",
    "version": 3
   },
   "file_extension": ".py",
   "mimetype": "text/x-python",
   "name": "python",
   "nbconvert_exporter": "python",
   "pygments_lexer": "ipython3",
   "version": "3.9.5"
  }
 },
 "nbformat": 4,
 "nbformat_minor": 2
}
